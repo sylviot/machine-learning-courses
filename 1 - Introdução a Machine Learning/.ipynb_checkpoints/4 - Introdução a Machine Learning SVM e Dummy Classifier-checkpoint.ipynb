{
 "cells": [
  {
   "cell_type": "code",
   "execution_count": 1,
   "metadata": {},
   "outputs": [],
   "source": [
    "import pandas as pd\n",
    "\n",
    "uri = \"https://gist.githubusercontent.com/guilhermesilveira/4d1d4a16ccbf6ea4e0a64a38a24ec884/raw/afd05cb0c796d18f3f5a6537053ded308ba94bf7/car-prices.csv\"\n",
    "dados = pd.read_csv(uri)\n",
    "\n",
    "# Tratar os dados\n",
    "a_renomear = {\n",
    "    \"mileage_per_year\": \"milhas_por_ano\",\n",
    "    \"model_year\": \"ano_do_modelo\",\n",
    "    \"price\": \"preco\",\n",
    "    \"sold\": \"vendido\"\n",
    "}\n",
    "a_trocar = {\n",
    "    \"yes\": 1,\n",
    "    \"no\": 0\n",
    "}\n",
    "dados = dados.rename(columns=a_renomear)\n",
    "dados.vendido = dados.vendido.map(a_trocar)\n",
    "\n",
    "# \n",
    "dados['idade_do_modelo'] = 2020 - dados.ano_do_modelo\n",
    "dados['kilometro_por_ano'] = dados.milhas_por_ano * 1.60934\n",
    "\n",
    "dados = dados.drop(columns = [\"Unnamed: 0\", \"milhas_por_ano\", \"ano_do_modelo\"], axis=1)\n",
    "\n",
    "x = dados[[\"preco\", \"idade_do_modelo\", \"kilometro_por_ano\"]]\n",
    "y = dados[\"vendido\"]"
   ]
  },
  {
   "cell_type": "code",
   "execution_count": 2,
   "metadata": {},
   "outputs": [
    {
     "name": "stdout",
     "output_type": "stream",
     "text": [
      "Minha acurácia foi de 71.00%\n"
     ]
    }
   ],
   "source": [
    "from sklearn.model_selection import train_test_split\n",
    "from sklearn.svm import LinearSVC\n",
    "from sklearn.metrics import accuracy_score\n",
    "import numpy as np\n",
    "from sklearn.preprocessing import StandardScaler\n",
    "\n",
    "# Número para o random manter a consistência\n",
    "SEED = 5\n",
    "np.random.seed(SEED)\n",
    "\n",
    "treino_original_x, teste_original_x, treino_y, teste_y = train_test_split(x, y, test_size = 0.25, stratify = y)\n",
    "\n",
    "\n",
    "scaler = StandardScaler()\n",
    "scaler.fit(treino_original_x)\n",
    "treino_x = scaler.transform(treino_original_x)\n",
    "teste_x = scaler.transform(teste_original_x)\n",
    "\n",
    "# Treino do modelo\n",
    "modelo = LinearSVC()\n",
    "modelo.fit(treino_x, treino_y)\n",
    "\n",
    "# Previsões com os dados de testes (o modelo não utilizou esses dados)\n",
    "previsoes = modelo.predict(teste_x)\n",
    "acuracia = accuracy_score(teste_y, previsoes) * 100\n",
    "\n",
    "print(\"Minha acurácia foi de %.2f%%\" % (acuracia))\n"
   ]
  },
  {
   "cell_type": "markdown",
   "metadata": {},
   "source": [
    "# Utilizando Dummy para classificação com estrategia\n",
    "\n",
    "stratified = Estrategia propocional exemplo 70% treino e 30% para teste.\n"
   ]
  },
  {
   "cell_type": "code",
   "execution_count": 3,
   "metadata": {},
   "outputs": [
    {
     "name": "stdout",
     "output_type": "stream",
     "text": [
      "Minha dummy acurácia foi de 52.44%\n"
     ]
    },
    {
     "name": "stderr",
     "output_type": "stream",
     "text": [
      "c:\\users\\sylvio.junior\\appdata\\local\\programs\\python\\python39\\lib\\site-packages\\sklearn\\dummy.py:131: FutureWarning: The default value of strategy will change from stratified to prior in 0.24.\n",
      "  warnings.warn(\"The default value of strategy will change from \"\n"
     ]
    }
   ],
   "source": [
    "from sklearn.dummy import DummyClassifier\n",
    "\n",
    "dummy = DummyClassifier()\n",
    "dummy.fit(treino_x, treino_y)\n",
    "\n",
    "acuracia = dummy.score(teste_x, teste_y) * 100\n",
    "\n",
    "print(\"Minha dummy acurácia foi de %.2f%%\" % (acuracia))"
   ]
  },
  {
   "cell_type": "code",
   "execution_count": 4,
   "metadata": {},
   "outputs": [
    {
     "name": "stdout",
     "output_type": "stream",
     "text": [
      "Minha acurácia foi de 73.20%\n"
     ]
    }
   ],
   "source": [
    "from sklearn.model_selection import train_test_split\n",
    "from sklearn.tree import DecisionTreeClassifier\n",
    "from sklearn.tree import export_graphviz\n",
    "from sklearn.metrics import accuracy_score\n",
    "import graphviz\n",
    "import numpy as np\n",
    "from sklearn.preprocessing import StandardScaler\n",
    "\n",
    "# Número para o random manter a consistência\n",
    "SEED = 5\n",
    "np.random.seed(SEED)\n",
    "\n",
    "treino_original_x, teste_original_x, treino_y, teste_y = train_test_split(x, y, test_size = 0.25, stratify = y)\n",
    "\n",
    "\n",
    "scaler = StandardScaler()\n",
    "scaler.fit(treino_original_x)\n",
    "treino_x = scaler.transform(treino_original_x)\n",
    "teste_x = scaler.transform(teste_original_x)\n",
    "\n",
    "# Treino do modelo\n",
    "modelo = DecisionTreeClassifier()\n",
    "modelo.fit(treino_x, treino_y)\n",
    "\n",
    "# Previsões com os dados de testes (o modelo não utilizou esses dados)\n",
    "previsoes = modelo.predict(teste_x)\n",
    "acuracia = accuracy_score(teste_y, previsoes) * 100\n",
    "\n",
    "print(\"Minha acurácia foi de %.2f%%\" % (acuracia))\n",
    "\n",
    "dot_data = export_graphviz(modelo, out_file=None)\n",
    "#graphviz.Source(dot_data) #graphviz não consegui instalar.\n"
   ]
  },
  {
   "cell_type": "code",
   "execution_count": null,
   "metadata": {},
   "outputs": [],
   "source": []
  }
 ],
 "metadata": {
  "kernelspec": {
   "display_name": "Python 3",
   "language": "python",
   "name": "python3"
  },
  "language_info": {
   "codemirror_mode": {
    "name": "ipython",
    "version": 3
   },
   "file_extension": ".py",
   "mimetype": "text/x-python",
   "name": "python",
   "nbconvert_exporter": "python",
   "pygments_lexer": "ipython3",
   "version": "3.9.1"
  }
 },
 "nbformat": 4,
 "nbformat_minor": 4
}
